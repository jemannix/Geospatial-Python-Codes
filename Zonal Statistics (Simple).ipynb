{
 "cells": [
  {
   "cell_type": "markdown",
   "metadata": {},
   "source": [
    "# Zonal Statistics"
   ]
  },
  {
   "cell_type": "markdown",
   "metadata": {},
   "source": [
    "A code that runs a zonal statistics using shapefile"
   ]
  },
  {
   "cell_type": "markdown",
   "metadata": {},
   "source": [
    "## Import the Libraries"
   ]
  },
  {
   "cell_type": "code",
   "execution_count": null,
   "metadata": {
    "collapsed": true
   },
   "outputs": [],
   "source": [
    "import rasterio\n",
    "from rasterstats import zonal_stats\n",
    "import geopandas\n",
    "import csv"
   ]
  },
  {
   "cell_type": "markdown",
   "metadata": {},
   "source": [
    "## Run the Code"
   ]
  },
  {
   "cell_type": "code",
   "execution_count": null,
   "metadata": {
    "collapsed": true
   },
   "outputs": [],
   "source": [
    "Inrast = 'input raster file path'\n",
    "Inshp = 'input vector file path'\n",
    "# Function to run 'sum' zonal statistics on a raster\n",
    "def zonalstat(a,b):\n",
    "    rast = rasterio.open(str(a))\n",
    "    countryclip = geopandas.read_file(str(b))\n",
    "    array = rast.read(1)\n",
    "    affine = rast.transform\n",
    "    count_zone = zonal_stats(countryclip, array, affine=affine, stats=['sum'], nodata_value = 0, categorical = True)\n",
    "\n",
    "zonalstat(Inrast, Inshp)\n",
    "\n",
    "# Function to write out the zonal statistics as a csv\n",
    "def csvout():\n",
    "    output = zonalstat(a,b)\n",
    "    myFile = open('/Users/Jenny/Downloads/csvtest.csv', 'w')\n",
    "    myFile.write(output)\n",
    "    myFile.close()"
   ]
  }
 ],
 "metadata": {
  "kernelspec": {
   "display_name": "Python 2",
   "language": "python",
   "name": "python2"
  },
  "language_info": {
   "codemirror_mode": {
    "name": "ipython",
    "version": 2
   },
   "file_extension": ".py",
   "mimetype": "text/x-python",
   "name": "python",
   "nbconvert_exporter": "python",
   "pygments_lexer": "ipython2",
   "version": "2.7.11"
  }
 },
 "nbformat": 4,
 "nbformat_minor": 2
}
