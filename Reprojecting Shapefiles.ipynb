{
 "cells": [
  {
   "cell_type": "markdown",
   "metadata": {},
   "source": [
    "# Reprojecting a File"
   ]
  },
  {
   "cell_type": "markdown",
   "metadata": {},
   "source": [
    "A function that reprojects a shapefile using GDAL/OGR"
   ]
  },
  {
   "cell_type": "markdown",
   "metadata": {},
   "source": [
    "## Import the Libraries"
   ]
  },
  {
   "cell_type": "code",
   "execution_count": null,
   "metadata": {
    "collapsed": true
   },
   "outputs": [],
   "source": [
    "from osgeo import ogr, osr\n",
    "import os"
   ]
  },
  {
   "cell_type": "markdown",
   "metadata": {},
   "source": [
    "## Running the Code"
   ]
  },
  {
   "cell_type": "code",
   "execution_count": null,
   "metadata": {
    "collapsed": true
   },
   "outputs": [],
   "source": [
    "inpath = '/Users/Jenny/Document/test.shp'\n",
    "outpath = '/Users/Jenny/Document/testreproj.shp'\n",
    "\n",
    "def reproject(a, b):\n",
    "    driver = ogr.GetDriverByName('ESRI Shapefile')\n",
    "\n",
    "    # input SpatialReference\n",
    "    inSpatialRef = osr.SpatialReference()\n",
    "    inSpatialRef.ImportFromEPSG(3857)\n",
    "\n",
    "    # output SpatialReference\n",
    "    outSpatialRef = osr.SpatialReference()\n",
    "    outSpatialRef.ImportFromEPSG(4326)\n",
    "\n",
    "    # create the CoordinateTransformation\n",
    "    coordTrans = osr.CoordinateTransformation(inSpatialRef, outSpatialRef)\n",
    "\n",
    "    # get the input layer\n",
    "    inDataSet = driver.Open(str(a))\n",
    "    inLayer = inDataSet.GetLayer()\n",
    "\n",
    "    # create the output layer\n",
    "    if os.path.exists(str(b)):\n",
    "        driver.DeleteDataSource(str(b))\n",
    "    outDataSet = driver.CreateDataSource(str(b))\n",
    "    outLayer = outDataSet.CreateLayer(\"reproject\", geom_type=ogr.wkbMultiPolygon)\n",
    "\n",
    "    # add fields\n",
    "    inLayerDefn = inLayer.GetLayerDefn()\n",
    "    for i in range(0, inLayerDefn.GetFieldCount()):\n",
    "        fieldDefn = inLayerDefn.GetFieldDefn(i)\n",
    "        outLayer.CreateField(fieldDefn)\n",
    "\n",
    "    # get the output layer's feature definition\n",
    "    outLayerDefn = outLayer.GetLayerDefn()\n",
    "\n",
    "    # loop through the input features\n",
    "    inFeature = inLayer.GetNextFeature()\n",
    "    while inFeature:\n",
    "        # get the input geometry\n",
    "        geom = inFeature.GetGeometryRef()\n",
    "        # reproject the geometry\n",
    "        geom.Transform(coordTrans)\n",
    "        # create a new feature\n",
    "        outFeature = ogr.Feature(outLayerDefn)\n",
    "        # set the geometry and attribute\n",
    "        outFeature.SetGeometry(geom)\n",
    "        for i in range(0, outLayerDefn.GetFieldCount()):\n",
    "            outFeature.SetField(outLayerDefn.GetFieldDefn(i).GetNameRef(), inFeature.GetField(i))\n",
    "        # add the feature to the shapefile\n",
    "        outLayer.CreateFeature(outFeature)\n",
    "        # dereference the features and get the next input feature\n",
    "        outFeature = None\n",
    "        inFeature = inLayer.GetNextFeature()\n",
    "\n",
    "    # Save and close the shapefiles\n",
    "    inDataSet = None\n",
    "    outDataSet = None\n",
    "\n",
    "reproject(inpath, outpath)"
   ]
  }
 ],
 "metadata": {
  "kernelspec": {
   "display_name": "Python 2",
   "language": "python",
   "name": "python2"
  },
  "language_info": {
   "codemirror_mode": {
    "name": "ipython",
    "version": 2
   },
   "file_extension": ".py",
   "mimetype": "text/x-python",
   "name": "python",
   "nbconvert_exporter": "python",
   "pygments_lexer": "ipython2",
   "version": "2.7.11"
  }
 },
 "nbformat": 4,
 "nbformat_minor": 2
}
