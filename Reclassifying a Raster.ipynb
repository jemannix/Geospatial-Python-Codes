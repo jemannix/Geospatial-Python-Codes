{
 "cells": [
  {
   "cell_type": "markdown",
   "metadata": {},
   "source": [
    "## Reclassifying a Raster"
   ]
  },
  {
   "cell_type": "markdown",
   "metadata": {},
   "source": [
    "A code to reclassify a raster using a numpy array"
   ]
  },
  {
   "cell_type": "markdown",
   "metadata": {},
   "source": [
    "## Import Libraries"
   ]
  },
  {
   "cell_type": "code",
   "execution_count": null,
   "metadata": {
    "collapsed": true
   },
   "outputs": [],
   "source": [
    "import rasterio\n",
    "import numpy as np"
   ]
  },
  {
   "cell_type": "markdown",
   "metadata": {},
   "source": [
    "## Running the code"
   ]
  },
  {
   "cell_type": "code",
   "execution_count": null,
   "metadata": {
    "collapsed": true
   },
   "outputs": [],
   "source": [
    "input = 'input path'\n",
    "output = 'output path'\n",
    "\n",
    "# Function to reclassify a raster\n",
    "Reclass_rast(input, output):\n",
    "    # Reclassifies a raster based on an array using numpy logic\n",
    "    with rasterio.open(input) as src:\n",
    "        array = src.read()\n",
    "        profile = src.profile\n",
    "        array[np.logical_and( 0 <= array, array <= 5000 )] = 1\n",
    "        array[np.logical_and(5000 < array, array <= 10000) ] = 2\n",
    "        array[np.logical_and(10000 < array, array <= 15000) ] = 3\n",
    "        array[np.logical_and(15000 < array, array <= 20000) ] = 4\n",
    "        array[np.logical_and(20000 < array, array <= 25000) ] = 5\n",
    "        array[np.logical_and(25000 < array, array <= 30000) ] = 6\n",
    "        array[np.logical_and(30000 < array, array <= 35000) ] = 7\n",
    "        array[np.logical_and(35000 < array, array <= 40000) ] = 8\n",
    "        array[np.logical_and(40000 < array, array <= 45000) ] = 9\n",
    "        array[np.logical_and(45000 < array, array <= 50000) ] = 10\n",
    "        array[np.logical_and(50000 < array, array <= 55000) ] = 11\n",
    "        array[np.logical_and(55000 < array, array <= 60000) ] = 12\n",
    "        array[np.logical_and(60000 < array, array <= 65000) ] = 13\n",
    "        array[np.logical_and(65000 < array, array <= 70000) ] = 14\n",
    "        array[np.logical_and(70000 < array, array <= 75000) ] = 15\n",
    "        array[np.logical_and(75000 < array, array <= 80000) ] = 16\n",
    "        array[np.logical_and(80000 < array, array <= 85000) ] = 17\n",
    "        array[np.logical_and(85000 < array, array <= 90000) ] = 18\n",
    "        array[np.logical_and(90000 < array, array <= 95000) ] = 19\n",
    "        array[np.logical_and( 95000 < array, array <= 100000) ] = 20\n",
    "\n",
    "    # Writes out newly reclassified raster    \n",
    "    with rasterio.open(output, 'w', **profile) as dst:\n",
    "        dst.write(array)\n",
    "\n",
    "Reclass_rast(input, output)"
   ]
  }
 ],
 "metadata": {
  "kernelspec": {
   "display_name": "Python 2",
   "language": "python",
   "name": "python2"
  },
  "language_info": {
   "codemirror_mode": {
    "name": "ipython",
    "version": 2
   },
   "file_extension": ".py",
   "mimetype": "text/x-python",
   "name": "python",
   "nbconvert_exporter": "python",
   "pygments_lexer": "ipython2",
   "version": "2.7.11"
  }
 },
 "nbformat": 4,
 "nbformat_minor": 2
}
