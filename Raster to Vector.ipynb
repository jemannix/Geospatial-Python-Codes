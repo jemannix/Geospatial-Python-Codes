{
 "cells": [
  {
   "cell_type": "markdown",
   "metadata": {},
   "source": [
    "# Raster to Vector"
   ]
  },
  {
   "cell_type": "markdown",
   "metadata": {},
   "source": [
    "Code to convert a raster into a vector using GDAL/OGR"
   ]
  },
  {
   "cell_type": "markdown",
   "metadata": {},
   "source": [
    "## Import the Libraries"
   ]
  },
  {
   "cell_type": "code",
   "execution_count": null,
   "metadata": {
    "collapsed": true
   },
   "outputs": [],
   "source": [
    "from osgeo import gdal, ogr, osr\n",
    "import os\n",
    "import sys"
   ]
  },
  {
   "cell_type": "markdown",
   "metadata": {},
   "source": [
    "## Run the Code"
   ]
  },
  {
   "cell_type": "code",
   "execution_count": null,
   "metadata": {
    "collapsed": true
   },
   "outputs": [],
   "source": [
    "gdal.UseExceptions()\n",
    "\n",
    "fileName = 'filepath of raster file'\n",
    "\n",
    "# Function to convert a raster file to a vector shapefile\n",
    "def rast2vect(fileName):\n",
    "    drv = ogr.GetDriverByName(\"ESRI Shapefile\")\n",
    "    \n",
    "    # Deletes the file if it already exists\n",
    "    if os.path.exists(fileName + \".shp\"):\n",
    "        drv.DeleteDataSource(fileName + \".shp\")\n",
    "    \n",
    "    # Opens the raster file\n",
    "    src_ds = gdal.Open(fileName)\n",
    "    \n",
    "    # If the file does not exist print below\n",
    "    if src_ds is None:\n",
    "        print('Unable to open %s' % src_fileName)\n",
    "        sys.exit(1)\n",
    "    \n",
    "    # Gets the bands of the raster\n",
    "    srcband = src_ds.GetRasterBand(1)\n",
    "    \n",
    "    # Gets the basic metadata for the raster to convert\n",
    "    srs = osr.SpatialReference()\n",
    "    srs.ImportFromWkt(src_ds.GetProjection())\n",
    "    dst_ds = drv.CreateDataSource(fileName + \".shp\")\n",
    "    dst_layer = dst_ds.CreateLayer(fileName, srs)\n",
    "    \n",
    "    # Creates a new field for the shapefile\n",
    "    newField = ogr.FieldDefn('MYFLD', ogr.OFTInteger)\n",
    "    dst_layer.CreateField(newField)\n",
    "    \n",
    "    # Writes out the raster as a vector\n",
    "    gdal.Polygonize(srcband, None, dst_layer, 0, [], \n",
    "    callback=None)\n",
    "\n",
    "rast2vect(fileName)"
   ]
  }
 ],
 "metadata": {
  "kernelspec": {
   "display_name": "Python 2",
   "language": "python",
   "name": "python2"
  },
  "language_info": {
   "codemirror_mode": {
    "name": "ipython",
    "version": 2
   },
   "file_extension": ".py",
   "mimetype": "text/x-python",
   "name": "python",
   "nbconvert_exporter": "python",
   "pygments_lexer": "ipython2",
   "version": "2.7.11"
  }
 },
 "nbformat": 4,
 "nbformat_minor": 2
}
